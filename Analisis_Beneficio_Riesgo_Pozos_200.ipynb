{
 "cells": [
  {
   "cell_type": "markdown",
   "metadata": {},
   "source": [
    "# Descripción del proyecto\n",
    "Trabajas en la compañía de extracción de petróleo OilyGiant. Tu tarea es encontrar los mejores lugares donde abrir 200 pozos nuevos de petróleo.\n",
    "\n",
    "Para completar esta tarea, tendrás que realizar los siguientes pasos:\n",
    "\n",
    "Leer los archivos con los parámetros recogidos de pozos petrolíferos en la región seleccionada: calidad de crudo y volumen de reservas.\n",
    "Crear un modelo para predecir el volumen de reservas en pozos nuevos.\n",
    "Elegir los pozos petrolíferos que tienen los valores estimados más altos.\n",
    "Elegir la región con el beneficio total más alto para los pozos petrolíferos seleccionados.\n",
    "Tienes datos sobre muestras de crudo de tres regiones. Ya se conocen los parámetros de cada pozo petrolero de la región. Crea un modelo que ayude a elegir la región con el mayor margen de beneficio. Analiza los beneficios y riesgos potenciales utilizando la técnica bootstrapping."
   ]
  },
  {
   "cell_type": "markdown",
   "metadata": {},
   "source": [
    "# Descarga y prepara los datos"
   ]
  },
  {
   "cell_type": "code",
   "execution_count": 1,
   "metadata": {},
   "outputs": [],
   "source": [
    "# Importar librerias \n",
    "import numpy as np\n",
    "import pandas as pd\n",
    "from sklearn.utils import resample\n",
    "from sklearn.linear_model import LinearRegression\n",
    "from sklearn.model_selection import train_test_split\n",
    "from sklearn.metrics import mean_squared_error"
   ]
  },
  {
   "cell_type": "code",
   "execution_count": 2,
   "metadata": {},
   "outputs": [],
   "source": [
    "# Carga del datasets\n",
    "df_0 = pd.read_csv('/datasets/geo_data_0.csv')\n",
    "df_1 = pd.read_csv('/datasets/geo_data_1.csv')\n",
    "df_2 = pd.read_csv('/datasets/geo_data_2.csv')"
   ]
  },
  {
   "cell_type": "code",
   "execution_count": 3,
   "metadata": {},
   "outputs": [
    {
     "name": "stdout",
     "output_type": "stream",
     "text": [
      "<class 'pandas.core.frame.DataFrame'>\n",
      "RangeIndex: 100000 entries, 0 to 99999\n",
      "Data columns (total 5 columns):\n",
      " #   Column   Non-Null Count   Dtype  \n",
      "---  ------   --------------   -----  \n",
      " 0   id       100000 non-null  object \n",
      " 1   f0       100000 non-null  float64\n",
      " 2   f1       100000 non-null  float64\n",
      " 3   f2       100000 non-null  float64\n",
      " 4   product  100000 non-null  float64\n",
      "dtypes: float64(4), object(1)\n",
      "memory usage: 3.8+ MB\n",
      "      id        f0        f1        f2     product\n",
      "0  txEyH  0.705745 -0.497823  1.221170  105.280062\n",
      "1  2acmU  1.334711 -0.340164  4.365080   73.037750\n",
      "2  409Wp  1.022732  0.151990  1.419926   85.265647\n",
      "3  iJLyR -0.032172  0.139033  2.978566  168.620776\n",
      "4  Xdl7t  1.988431  0.155413  4.751769  154.036647\n",
      "Numero de valores ausentes id         0\n",
      "f0         0\n",
      "f1         0\n",
      "f2         0\n",
      "product    0\n",
      "dtype: int64\n",
      "Numero de registros duplicados 0\n"
     ]
    }
   ],
   "source": [
    "# Analisis de df_0\n",
    "df_0.info() # informacion general \n",
    "print(df_0.head()) # imprimir las primeras filas\n",
    "print('Numero de valores ausentes',df_0.isna().sum()) # revisar si  hay valores ausentes\n",
    "print('Numero de registros duplicados',df_0.duplicated().sum()) # revisar si hay filas duplicadas "
   ]
  },
  {
   "cell_type": "code",
   "execution_count": 4,
   "metadata": {},
   "outputs": [
    {
     "name": "stdout",
     "output_type": "stream",
     "text": [
      "<class 'pandas.core.frame.DataFrame'>\n",
      "RangeIndex: 100000 entries, 0 to 99999\n",
      "Data columns (total 5 columns):\n",
      " #   Column   Non-Null Count   Dtype  \n",
      "---  ------   --------------   -----  \n",
      " 0   id       100000 non-null  object \n",
      " 1   f0       100000 non-null  float64\n",
      " 2   f1       100000 non-null  float64\n",
      " 3   f2       100000 non-null  float64\n",
      " 4   product  100000 non-null  float64\n",
      "dtypes: float64(4), object(1)\n",
      "memory usage: 3.8+ MB\n",
      "      id         f0         f1        f2     product\n",
      "0  kBEdx -15.001348  -8.276000 -0.005876    3.179103\n",
      "1  62mP7  14.272088  -3.475083  0.999183   26.953261\n",
      "2  vyE1P   6.263187  -5.948386  5.001160  134.766305\n",
      "3  KcrkZ -13.081196 -11.506057  4.999415  137.945408\n",
      "4  AHL4O  12.702195  -8.147433  5.004363  134.766305\n",
      "Numero de valores ausentes id         0\n",
      "f0         0\n",
      "f1         0\n",
      "f2         0\n",
      "product    0\n",
      "dtype: int64\n",
      "Numero de registros duplicados 0\n"
     ]
    }
   ],
   "source": [
    "# Analisis de df_1\n",
    "df_1.info() # informacion general \n",
    "print(df_1.head()) # imprimir las primeras filas\n",
    "print('Numero de valores ausentes',df_1.isna().sum()) # revisar si  hay valores ausentes\n",
    "print('Numero de registros duplicados',df_1.duplicated().sum()) # revisar si hay filas duplicadas "
   ]
  },
  {
   "cell_type": "code",
   "execution_count": 5,
   "metadata": {},
   "outputs": [
    {
     "name": "stdout",
     "output_type": "stream",
     "text": [
      "<class 'pandas.core.frame.DataFrame'>\n",
      "RangeIndex: 100000 entries, 0 to 99999\n",
      "Data columns (total 5 columns):\n",
      " #   Column   Non-Null Count   Dtype  \n",
      "---  ------   --------------   -----  \n",
      " 0   id       100000 non-null  object \n",
      " 1   f0       100000 non-null  float64\n",
      " 2   f1       100000 non-null  float64\n",
      " 3   f2       100000 non-null  float64\n",
      " 4   product  100000 non-null  float64\n",
      "dtypes: float64(4), object(1)\n",
      "memory usage: 3.8+ MB\n",
      "      id        f0        f1        f2     product\n",
      "0  fwXo0 -1.146987  0.963328 -0.828965   27.758673\n",
      "1  WJtFt  0.262778  0.269839 -2.530187   56.069697\n",
      "2  ovLUW  0.194587  0.289035 -5.586433   62.871910\n",
      "3  q6cA6  2.236060 -0.553760  0.930038  114.572842\n",
      "4  WPMUX -0.515993  1.716266  5.899011  149.600746\n",
      "Numero de valores ausentes id         0\n",
      "f0         0\n",
      "f1         0\n",
      "f2         0\n",
      "product    0\n",
      "dtype: int64\n",
      "Numero de registros duplicados 0\n"
     ]
    }
   ],
   "source": [
    "# Analisis de df_2\n",
    "df_2.info() # informacion general \n",
    "print(df_2.head()) # imprimir las primeras filas\n",
    "print('Numero de valores ausentes',df_2.isna().sum()) # revisar si  hay valores ausentes\n",
    "print('Numero de registros duplicados',df_2.duplicated().sum()) # revisar si hay filas duplicadas "
   ]
  },
  {
   "cell_type": "code",
   "execution_count": 6,
   "metadata": {},
   "outputs": [],
   "source": [
    "# División del dataset en features y targets\n",
    "features_0 = df_0.drop(['id','product'], axis=1)\n",
    "features_1 = df_1.drop(['id','product'], axis=1)\n",
    "features_2 = df_2.drop(['id','product'], axis=1)\n",
    "target_0 = df_0['product']\n",
    "target_1 = df_1['product']\n",
    "target_2 = df_2['product']"
   ]
  },
  {
   "cell_type": "code",
   "execution_count": 7,
   "metadata": {},
   "outputs": [],
   "source": [
    "# División del dataset en entrenamiento y validación\n",
    "features_train_0, features_valid_0, target_train_0, target_valid_0 = train_test_split(features_0, target_0, test_size=0.25, random_state=12345)\n",
    "features_train_0, features_valid_1, target_train_1, target_valid_1 = train_test_split(features_1, target_1, test_size=0.25, random_state=12345)\n",
    "features_train_0, features_valid_2, target_train_2, target_valid_2 = train_test_split(features_2, target_2, test_size=0.25, random_state=12345)"
   ]
  },
  {
   "cell_type": "markdown",
   "metadata": {},
   "source": [
    "Los tres dataframes tienen 100000 registros con 5 columnas cada uno, no tiene valores ausentes ni duplicados\n",
    "Además, las caracteristica f0, f1 y f2, son significativas pues no se deben de escalar entoces los datos estan listo para crear el modelo, la columna de ids, no sera considera ya que no aportar informacion validosa."
   ]
  },
  {
   "cell_type": "markdown",
   "metadata": {},
   "source": [
    "# Entrena y prueba el modelo"
   ]
  },
  {
   "cell_type": "code",
   "execution_count": 8,
   "metadata": {},
   "outputs": [],
   "source": [
    "# Creamos una funcion para realizar el modelo de regresion lineal\n",
    "def Modelo_reg (features, target, features_valid, target_valid):\n",
    "    model = LinearRegression() # Creamos el modelo\n",
    "    model.fit(features, target) # Entrenamos el modelo\n",
    "    predictions = model.predict(features_valid) # Guardamos las prediciones\n",
    "    mean_pred = np.mean(predictions) # Calculamos la media de las prediciones\n",
    "    mean_real = np.mean(target_valid) # Calculamos la media de los valores realeas\n",
    "    rmse = np.sqrt(mean_squared_error(target_valid, predictions)) # Calcula el RMSE\n",
    "    print('La media de las predicciones es:', mean_pred) # Imprimos la media de las predicciones\n",
    "    print('La media de los valores reales es:', mean_real) # Imprimos la media de los valores reales\n",
    "    print('El RMSE del modelo es:', rmse) # Imprimos el RMSE\n",
    "    \n",
    "    return mean_pred, mean_real, rmse, predictions"
   ]
  },
  {
   "cell_type": "code",
   "execution_count": 9,
   "metadata": {},
   "outputs": [
    {
     "name": "stdout",
     "output_type": "stream",
     "text": [
      "La media de las predicciones es: 92.46564781325566\n",
      "La media de los valores reales es: 92.07859674082927\n",
      "El RMSE del modelo es: 37.57547919032473\n"
     ]
    }
   ],
   "source": [
    "# Valores de df_0\n",
    "mean_pred_0, mean_real_0, rmse_0, predictions_0 = Modelo_reg (features_0, target_0, features_valid_0, target_valid_0)"
   ]
  },
  {
   "cell_type": "code",
   "execution_count": 10,
   "metadata": {},
   "outputs": [
    {
     "name": "stdout",
     "output_type": "stream",
     "text": [
      "La media de las predicciones es: 68.72718652381815\n",
      "La media de los valores reales es: 68.72313602435997\n",
      "El RMSE del modelo es: 0.8930685055287833\n"
     ]
    }
   ],
   "source": [
    "# Valores de df_1\n",
    "mean_pred_1, mean_real_1, rmse_1, predictions_1 = Modelo_reg (features_1, target_1, features_valid_1, target_valid_1)"
   ]
  },
  {
   "cell_type": "code",
   "execution_count": 11,
   "metadata": {},
   "outputs": [
    {
     "name": "stdout",
     "output_type": "stream",
     "text": [
      "La media de las predicciones es: 94.94513027263153\n",
      "La media de los valores reales es: 94.88423280885438\n",
      "El RMSE del modelo es: 40.026749644748875\n"
     ]
    }
   ],
   "source": [
    "# Valores de df_2\n",
    "mean_pred_2, mean_real_2, rmse_2, predictions_2 = Modelo_reg (features_2, target_2, features_valid_2, target_valid_2)"
   ]
  },
  {
   "cell_type": "markdown",
   "metadata": {},
   "source": [
    "En general tenemos medias bastante parecedidas pero tenemos un problema con el error cuadratico medio en la primera y tercera región."
   ]
  },
  {
   "cell_type": "markdown",
   "metadata": {},
   "source": [
    "# Cálculo de ganancias"
   ]
  },
  {
   "cell_type": "code",
   "execution_count": 12,
   "metadata": {},
   "outputs": [],
   "source": [
    "def Ganancias (rmse, mean_pred,threshold_units=111.1):\n",
    "    \n",
    "    print(f\"El volumen medio de reservas es de {mean_pred:.2f} unidades.\")\n",
    "    print(f\"Para evitar pérdidas, cada pozo debe producir al menos {threshold_units:.2f} unidades en promedio.\") \n",
    "     \n",
    "    if mean_pred >= threshold_units:\n",
    "         print('La cantidad media de reservas es suficiente para evitar pérdidas, es probable que la inversión sea rentable')\n",
    "    else:\n",
    "         print('La cantidad media de reservas no es suficiente para evitar pérdidas, es probable que la inversión no sea rentable.')\n",
    "         \n"
   ]
  },
  {
   "cell_type": "code",
   "execution_count": 13,
   "metadata": {},
   "outputs": [
    {
     "name": "stdout",
     "output_type": "stream",
     "text": [
      "El volumen medio de reservas es de 92.47 unidades.\n",
      "Para evitar pérdidas, cada pozo debe producir al menos 111.10 unidades en promedio.\n",
      "La cantidad media de reservas no es suficiente para evitar pérdidas, es probable que la inversión no sea rentable.\n"
     ]
    }
   ],
   "source": [
    "# Ganancias de la region 0\n",
    "Ganancias (rmse_0, mean_pred_0)"
   ]
  },
  {
   "cell_type": "code",
   "execution_count": 14,
   "metadata": {},
   "outputs": [
    {
     "name": "stdout",
     "output_type": "stream",
     "text": [
      "El volumen medio de reservas es de 68.73 unidades.\n",
      "Para evitar pérdidas, cada pozo debe producir al menos 111.10 unidades en promedio.\n",
      "La cantidad media de reservas no es suficiente para evitar pérdidas, es probable que la inversión no sea rentable.\n"
     ]
    }
   ],
   "source": [
    "# Ganancias de la region 1\n",
    "Ganancias (rmse_1, mean_pred_1)"
   ]
  },
  {
   "cell_type": "code",
   "execution_count": 15,
   "metadata": {},
   "outputs": [
    {
     "name": "stdout",
     "output_type": "stream",
     "text": [
      "El volumen medio de reservas es de 94.95 unidades.\n",
      "Para evitar pérdidas, cada pozo debe producir al menos 111.10 unidades en promedio.\n",
      "La cantidad media de reservas no es suficiente para evitar pérdidas, es probable que la inversión no sea rentable.\n"
     ]
    }
   ],
   "source": [
    "# Ganancias de la region 2\n",
    "Ganancias (rmse_2, mean_pred_2)"
   ]
  },
  {
   "cell_type": "markdown",
   "metadata": {},
   "source": [
    "Basandonos en los resultados podemos observar que si elegimos aleatoriamente 200 pozos en cualquiera de las zonas, la media no supera el umbral de la meta que requiere la empresa petrolera para poder generar ganancias, por lo tanto se debe de realizar otras pruebas para elegir correctamente la zona."
   ]
  },
  {
   "cell_type": "markdown",
   "metadata": {},
   "source": [
    "# función para calcular la ganancia de un conjunto de pozos de petróleo seleccionados y modela las predicciones"
   ]
  },
  {
   "cell_type": "code",
   "execution_count": 16,
   "metadata": {},
   "outputs": [],
   "source": [
    "def top_200_pozos (predictions, target, revenue=4500, investment=100000000):\n",
    "    data = pd.DataFrame({'predictions': predictions, 'target': target})\n",
    "    top_200 = data.nlargest(200, 'predictions')\n",
    "    total_revenue = top_200['target'].sum() * revenue\n",
    "    ganancia = total_revenue - investment \n",
    "    print('Ganancia potencial para la región es :', ganancia)\n",
    "    return top_200, ganancia"
   ]
  },
  {
   "cell_type": "code",
   "execution_count": 17,
   "metadata": {},
   "outputs": [
    {
     "name": "stdout",
     "output_type": "stream",
     "text": [
      "Ganancia potencial para la región es : 33208260.43139851\n"
     ]
    }
   ],
   "source": [
    "top_200_0, ganancia_0 = top_200_pozos (predictions_0, target_valid_0)"
   ]
  },
  {
   "cell_type": "code",
   "execution_count": 18,
   "metadata": {},
   "outputs": [
    {
     "name": "stdout",
     "output_type": "stream",
     "text": [
      "Ganancia potencial para la región es : 24150866.966815114\n"
     ]
    }
   ],
   "source": [
    "top_200_1, ganancia_1 = top_200_pozos (predictions_1, target_valid_1)"
   ]
  },
  {
   "cell_type": "code",
   "execution_count": 19,
   "metadata": {},
   "outputs": [
    {
     "name": "stdout",
     "output_type": "stream",
     "text": [
      "Ganancia potencial para la región es : 27323911.4313343\n"
     ]
    }
   ],
   "source": [
    "top_200_2, ganancia_2 = top_200_pozos (predictions_2, target_valid_2)"
   ]
  },
  {
   "cell_type": "markdown",
   "metadata": {},
   "source": [
    "Como se puede observar la mejor region para invertir es la 0 con una ganancia posible de 33208260.43139851"
   ]
  },
  {
   "cell_type": "markdown",
   "metadata": {},
   "source": [
    "# Calcula riesgos y ganancias para cada región"
   ]
  },
  {
   "cell_type": "code",
   "execution_count": 20,
   "metadata": {},
   "outputs": [],
   "source": [
    "def top_200(predictions, target):\n",
    "    # Convertir a arrays de numpy en caso de que no lo sean\n",
    "    target = np.asarray(target)\n",
    "    predictions = np.asarray(predictions)\n",
    "    \n",
    "    sorted_indices = np.argsort(predictions)[::-1]\n",
    "    top_200_indices = sorted_indices[:200]\n",
    "    selected_predictions = predictions[top_200_indices]\n",
    "    selected_target = target[top_200_indices]\n",
    "    \n",
    "    return selected_predictions, selected_target \n",
    "\n",
    "def bootstrap_profit(predictions, target, n_iterations=1000, sample_size=500, investment=100000000, revenue=4500):\n",
    "    state = np.random.RandomState(12345)\n",
    "    ganancias = []\n",
    "    for i in range(n_iterations):\n",
    "        # Tomar una muestra bootstrap de las predicciones y target\n",
    "        sample_predictions, sample_target = resample(predictions, target, n_samples=sample_size, random_state=state)\n",
    "        \n",
    "        # Seleccionamos los 200 mejores pozos de las muestras\n",
    "        _, sample_top_target = top_200(sample_predictions, sample_target)\n",
    "        \n",
    "        # Calculamos el beneficio total para esta muestra\n",
    "        total_revenue = sample_top_target.sum() * revenue\n",
    "        ganancia = total_revenue - investment\n",
    "        ganancias.append(ganancia)\n",
    "        \n",
    "       \n",
    "    # Convertir los beneficios a un array de numpy\n",
    "    ganancias = np.array(ganancias)    \n",
    "    # Calcular el beneficio promedio\n",
    "    avg_ganancias = ganancias.mean()   \n",
    "    # Calcular el intervalo de confianza del 95%\n",
    "    conf_interval = np.percentile(ganancias, [2.5, 97.5])   \n",
    "    # Calcular el riesgo de pérdidas (beneficio negativo)\n",
    "    risk_of_loss = (ganancias < 0).mean() * 100  \n",
    "    \n",
    "    return avg_ganancias, conf_interval, risk_of_loss"
   ]
  },
  {
   "cell_type": "code",
   "execution_count": 21,
   "metadata": {},
   "outputs": [
    {
     "name": "stdout",
     "output_type": "stream",
     "text": [
      "Región 0: Beneficio promedio = 3964927.666096237 , IC 95% = [-1088816.18926101  9138435.96291906] , Riesgo de pérdidas = 6.4 %\n",
      "Región 1: Beneficio promedio = 4560451.057866608 , IC 95% = [ 338205.09398985 8522894.53866035] , Riesgo de pérdidas = 1.5 %\n",
      "Región 2: Beneficio promedio = 4053867.734904668 , IC 95% = [-1680474.36516634  9519024.87781419] , Riesgo de pérdidas = 7.8 %\n"
     ]
    }
   ],
   "source": [
    "avg_ganancias_0, conf_interval_0, risk_of_loss_0 = bootstrap_profit(predictions_0, target_valid_0)\n",
    "avg_ganancias_1, conf_interval_1, risk_of_loss_1 = bootstrap_profit(predictions_1, target_valid_1)\n",
    "avg_ganancias_2, conf_interval_2, risk_of_loss_2 = bootstrap_profit(predictions_2, target_valid_2)\n",
    "print(\"Región 0: Beneficio promedio =\", avg_ganancias_0, \", IC 95% =\", conf_interval_0, \", Riesgo de pérdidas =\", risk_of_loss_0, \"%\")\n",
    "print(\"Región 1: Beneficio promedio =\", avg_ganancias_1, \", IC 95% =\", conf_interval_1, \", Riesgo de pérdidas =\", risk_of_loss_1, \"%\")\n",
    "print(\"Región 2: Beneficio promedio =\", avg_ganancias_2, \", IC 95% =\", conf_interval_2, \", Riesgo de pérdidas =\", risk_of_loss_2, \"%\")"
   ]
  },
  {
   "cell_type": "markdown",
   "metadata": {},
   "source": [
    "Realizando la tecnica de Bootstrapping con 1000 iteraciones con 500 pozos y de esos 500 pozos se escogen las 200 mejores predicciones para hacer el calculo del beneficio, la Región 1 es la que menor riesgo tiene con un 1.5% de riesgos de perdida. Además podemos observar que la región 1 esta dentro del intervalo de confianza, lo que da un punto extra, además es el unico intervalo que no tiene como banda baja perdidas IC 95% = [ 338205.09398985 8522894.53866035]."
   ]
  },
  {
   "cell_type": "markdown",
   "metadata": {},
   "source": [
    "# Conclusión\n",
    "Se cargaron 3 dataframe que tiene un 5 columnas y 100000 registros, no se detectaron problemas con la data. \n",
    "\n",
    "Se crearo una funcion que realizaba un modelo de regresion lineal para predecir las reservas de los pozos, apartir de tres variables, en general las medias son parecidas entre la predicion y los valores reales pero el error cuadratico medio es alto.\n",
    "\n",
    "Al calcular la ganancia nos percatamos que si elegimos aleatoriamente los pozos ninguna region seria rentable por lo que se hizo la seleccion del top 200 de cada region y ha primera vista la region 0 era la mejor opcion con una ganancia posible de 33208260.4313.\n",
    "\n",
    "Para estar seguro se utilizo la tecnica de Bootstrapping con 1000 iteraciones con 500 pozos para escoger el top 200 tambien se calculo el riesgo de perdida con un intervalo de confianza del 95% para cada region.\n",
    "\n",
    "Se concluyo que la mejor zona, es la region 1 ya que fue la unica que estuvo dentro del intervalo de confianza y obtuvo una ganancia esperada de [ 338205.09398985 - 8522894.53866035]."
   ]
  }
 ],
 "metadata": {
  "ExecuteTimeLog": [
   {
    "duration": 805,
    "start_time": "2024-09-11T03:54:28.736Z"
   },
   {
    "duration": 346,
    "start_time": "2024-09-11T03:54:32.922Z"
   },
   {
    "duration": 5,
    "start_time": "2024-09-11T03:54:37.375Z"
   },
   {
    "duration": 50,
    "start_time": "2024-09-11T03:54:47.332Z"
   },
   {
    "duration": 4,
    "start_time": "2024-09-11T03:55:41.503Z"
   },
   {
    "duration": 4,
    "start_time": "2024-09-11T03:55:54.170Z"
   },
   {
    "duration": 45,
    "start_time": "2024-09-11T03:55:59.253Z"
   },
   {
    "duration": 48,
    "start_time": "2024-09-11T03:56:08.325Z"
   },
   {
    "duration": 815,
    "start_time": "2024-09-11T04:18:43.523Z"
   },
   {
    "duration": 216,
    "start_time": "2024-09-11T04:18:45.079Z"
   },
   {
    "duration": 49,
    "start_time": "2024-09-11T04:18:49.443Z"
   },
   {
    "duration": 47,
    "start_time": "2024-09-11T04:18:52.168Z"
   },
   {
    "duration": 46,
    "start_time": "2024-09-11T04:18:54.841Z"
   },
   {
    "duration": 8,
    "start_time": "2024-09-11T04:18:57.780Z"
   },
   {
    "duration": 38,
    "start_time": "2024-09-11T04:18:59.748Z"
   },
   {
    "duration": 4,
    "start_time": "2024-09-11T04:19:06.534Z"
   },
   {
    "duration": 232,
    "start_time": "2024-09-11T04:19:10.605Z"
   },
   {
    "duration": 37,
    "start_time": "2024-09-11T04:19:51.181Z"
   },
   {
    "duration": 791,
    "start_time": "2024-09-11T04:21:25.659Z"
   },
   {
    "duration": 224,
    "start_time": "2024-09-11T04:21:30.579Z"
   },
   {
    "duration": 52,
    "start_time": "2024-09-11T04:21:32.109Z"
   },
   {
    "duration": 43,
    "start_time": "2024-09-11T04:21:34.465Z"
   },
   {
    "duration": 45,
    "start_time": "2024-09-11T04:21:36.665Z"
   },
   {
    "duration": 8,
    "start_time": "2024-09-11T04:21:39.728Z"
   },
   {
    "duration": 28,
    "start_time": "2024-09-11T04:21:42.334Z"
   },
   {
    "duration": 7,
    "start_time": "2024-09-11T04:21:44.565Z"
   },
   {
    "duration": 226,
    "start_time": "2024-09-11T04:21:47.583Z"
   },
   {
    "duration": 20,
    "start_time": "2024-09-11T04:21:54.785Z"
   },
   {
    "duration": 17,
    "start_time": "2024-09-11T04:22:00.729Z"
   },
   {
    "duration": 13,
    "start_time": "2024-09-11T04:23:11.214Z"
   },
   {
    "duration": 13,
    "start_time": "2024-09-11T04:23:48.249Z"
   },
   {
    "duration": 3,
    "start_time": "2024-09-11T04:52:34.900Z"
   },
   {
    "duration": 4,
    "start_time": "2024-09-11T04:53:54.851Z"
   },
   {
    "duration": 3,
    "start_time": "2024-09-11T04:54:23.190Z"
   },
   {
    "duration": 3,
    "start_time": "2024-09-11T04:55:24.054Z"
   },
   {
    "duration": 3,
    "start_time": "2024-09-11T04:56:33.658Z"
   },
   {
    "duration": 3,
    "start_time": "2024-09-11T04:56:36.104Z"
   },
   {
    "duration": 777,
    "start_time": "2024-09-12T03:44:29.894Z"
   },
   {
    "duration": 372,
    "start_time": "2024-09-12T03:44:30.876Z"
   },
   {
    "duration": 48,
    "start_time": "2024-09-12T03:44:34.342Z"
   },
   {
    "duration": 43,
    "start_time": "2024-09-12T03:44:37.304Z"
   },
   {
    "duration": 44,
    "start_time": "2024-09-12T03:44:39.813Z"
   },
   {
    "duration": 7,
    "start_time": "2024-09-12T03:44:43.555Z"
   },
   {
    "duration": 27,
    "start_time": "2024-09-12T03:44:47.462Z"
   },
   {
    "duration": 3,
    "start_time": "2024-09-12T03:45:03.955Z"
   },
   {
    "duration": 13,
    "start_time": "2024-09-12T03:45:06.719Z"
   },
   {
    "duration": 12,
    "start_time": "2024-09-12T03:45:08.886Z"
   },
   {
    "duration": 15,
    "start_time": "2024-09-12T03:45:11.123Z"
   },
   {
    "duration": 3,
    "start_time": "2024-09-12T03:45:25.494Z"
   },
   {
    "duration": 2,
    "start_time": "2024-09-12T03:45:27.893Z"
   },
   {
    "duration": 3,
    "start_time": "2024-09-12T03:45:36.881Z"
   },
   {
    "duration": 2,
    "start_time": "2024-09-12T03:45:41.680Z"
   },
   {
    "duration": 3,
    "start_time": "2024-09-12T04:02:25.620Z"
   },
   {
    "duration": 499,
    "start_time": "2024-09-12T04:03:23.872Z"
   },
   {
    "duration": 4,
    "start_time": "2024-09-12T04:12:41.883Z"
   },
   {
    "duration": 4,
    "start_time": "2024-09-12T04:14:09.353Z"
   },
   {
    "duration": 3,
    "start_time": "2024-09-12T04:14:40.939Z"
   },
   {
    "duration": 21,
    "start_time": "2024-09-12T04:14:44.864Z"
   },
   {
    "duration": 3,
    "start_time": "2024-09-12T04:15:06.066Z"
   },
   {
    "duration": 13,
    "start_time": "2024-09-12T04:15:08.396Z"
   },
   {
    "duration": 4,
    "start_time": "2024-09-12T04:15:23.119Z"
   },
   {
    "duration": 7,
    "start_time": "2024-09-12T04:15:26.053Z"
   },
   {
    "duration": 3,
    "start_time": "2024-09-12T04:15:46.413Z"
   },
   {
    "duration": 6,
    "start_time": "2024-09-12T04:15:47.431Z"
   },
   {
    "duration": 3,
    "start_time": "2024-09-12T04:18:56.256Z"
   },
   {
    "duration": 5,
    "start_time": "2024-09-12T04:18:57.621Z"
   },
   {
    "duration": 5,
    "start_time": "2024-09-12T04:19:27.119Z"
   },
   {
    "duration": 5,
    "start_time": "2024-09-12T04:19:45.557Z"
   },
   {
    "duration": 4,
    "start_time": "2024-09-12T04:41:17.189Z"
   },
   {
    "duration": 26,
    "start_time": "2024-09-12T04:41:20.195Z"
   },
   {
    "duration": 24,
    "start_time": "2024-09-12T04:42:53.020Z"
   },
   {
    "duration": 4,
    "start_time": "2024-09-12T04:42:56.127Z"
   },
   {
    "duration": 25,
    "start_time": "2024-09-12T04:42:59.669Z"
   },
   {
    "duration": 5,
    "start_time": "2024-09-12T04:44:48.520Z"
   },
   {
    "duration": 25,
    "start_time": "2024-09-12T04:44:51.885Z"
   },
   {
    "duration": 511,
    "start_time": "2024-09-12T04:45:11.024Z"
   },
   {
    "duration": 5,
    "start_time": "2024-09-12T04:46:28.226Z"
   },
   {
    "duration": 521,
    "start_time": "2024-09-12T04:46:45.198Z"
   },
   {
    "duration": 754,
    "start_time": "2024-09-12T05:08:39.955Z"
   },
   {
    "duration": 216,
    "start_time": "2024-09-12T05:08:40.761Z"
   },
   {
    "duration": 51,
    "start_time": "2024-09-12T05:08:44.816Z"
   },
   {
    "duration": 42,
    "start_time": "2024-09-12T05:08:46.765Z"
   },
   {
    "duration": 53,
    "start_time": "2024-09-12T05:08:47.934Z"
   },
   {
    "duration": 6,
    "start_time": "2024-09-12T05:08:48.834Z"
   },
   {
    "duration": 24,
    "start_time": "2024-09-12T05:08:49.549Z"
   },
   {
    "duration": 3,
    "start_time": "2024-09-12T05:08:51.517Z"
   },
   {
    "duration": 15,
    "start_time": "2024-09-12T05:08:52.233Z"
   },
   {
    "duration": 11,
    "start_time": "2024-09-12T05:08:52.917Z"
   },
   {
    "duration": 13,
    "start_time": "2024-09-12T05:08:53.567Z"
   },
   {
    "duration": 4,
    "start_time": "2024-09-12T05:08:55.701Z"
   },
   {
    "duration": 2,
    "start_time": "2024-09-12T05:08:56.370Z"
   },
   {
    "duration": 3,
    "start_time": "2024-09-12T05:08:57.001Z"
   },
   {
    "duration": 2,
    "start_time": "2024-09-12T05:08:57.643Z"
   },
   {
    "duration": 3,
    "start_time": "2024-09-12T05:08:59.471Z"
   },
   {
    "duration": 5,
    "start_time": "2024-09-12T05:09:00.171Z"
   },
   {
    "duration": 6,
    "start_time": "2024-09-12T05:09:06.541Z"
   },
   {
    "duration": 5,
    "start_time": "2024-09-12T05:09:07.640Z"
   },
   {
    "duration": 5,
    "start_time": "2024-09-12T05:09:13.085Z"
   },
   {
    "duration": 501,
    "start_time": "2024-09-12T05:09:15.549Z"
   },
   {
    "duration": 734,
    "start_time": "2024-09-13T01:53:16.089Z"
   },
   {
    "duration": 314,
    "start_time": "2024-09-13T01:53:16.824Z"
   },
   {
    "duration": 47,
    "start_time": "2024-09-13T01:53:17.140Z"
   },
   {
    "duration": 50,
    "start_time": "2024-09-13T01:53:17.190Z"
   },
   {
    "duration": 44,
    "start_time": "2024-09-13T01:53:17.241Z"
   },
   {
    "duration": 7,
    "start_time": "2024-09-13T01:53:17.287Z"
   },
   {
    "duration": 23,
    "start_time": "2024-09-13T01:53:17.311Z"
   },
   {
    "duration": 4,
    "start_time": "2024-09-13T01:53:17.336Z"
   },
   {
    "duration": 18,
    "start_time": "2024-09-13T01:53:17.342Z"
   },
   {
    "duration": 57,
    "start_time": "2024-09-13T01:53:17.364Z"
   },
   {
    "duration": 90,
    "start_time": "2024-09-13T01:53:17.423Z"
   },
   {
    "duration": 3,
    "start_time": "2024-09-13T01:53:17.515Z"
   },
   {
    "duration": 2,
    "start_time": "2024-09-13T01:53:17.520Z"
   },
   {
    "duration": 3,
    "start_time": "2024-09-13T01:53:17.524Z"
   },
   {
    "duration": 3,
    "start_time": "2024-09-13T01:53:17.528Z"
   },
   {
    "duration": 3,
    "start_time": "2024-09-13T01:53:17.532Z"
   },
   {
    "duration": 77,
    "start_time": "2024-09-13T01:53:17.537Z"
   },
   {
    "duration": 5,
    "start_time": "2024-09-13T01:53:17.615Z"
   },
   {
    "duration": 5,
    "start_time": "2024-09-13T01:53:17.622Z"
   },
   {
    "duration": 5,
    "start_time": "2024-09-13T01:53:17.628Z"
   },
   {
    "duration": 533,
    "start_time": "2024-09-13T01:53:17.635Z"
   }
  ],
  "kernelspec": {
   "display_name": "Python 3 (ipykernel)",
   "language": "python",
   "name": "python3"
  },
  "language_info": {
   "codemirror_mode": {
    "name": "ipython",
    "version": 3
   },
   "file_extension": ".py",
   "mimetype": "text/x-python",
   "name": "python",
   "nbconvert_exporter": "python",
   "pygments_lexer": "ipython3",
   "version": "3.9.19"
  },
  "toc": {
   "base_numbering": 1,
   "nav_menu": {},
   "number_sections": true,
   "sideBar": true,
   "skip_h1_title": true,
   "title_cell": "Table of Contents",
   "title_sidebar": "Contents",
   "toc_cell": false,
   "toc_position": {},
   "toc_section_display": true,
   "toc_window_display": false
  }
 },
 "nbformat": 4,
 "nbformat_minor": 2
}
